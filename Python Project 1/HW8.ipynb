{
 "cells": [
  {
   "cell_type": "markdown",
   "metadata": {},
   "source": [
    "# (1) Modules (Top-level module)"
   ]
  },
  {
   "cell_type": "code",
   "execution_count": null,
   "metadata": {},
   "outputs": [],
   "source": [
    "'''\n",
    "Q1 ~ Q2. Python has its own search path. But your desktop folder wouldn't be included. \n",
    "\n",
    "'''\n",
    "\n",
    "# hint: you need to import sys module"
   ]
  },
  {
   "cell_type": "code",
   "execution_count": 8,
   "metadata": {},
   "outputs": [
    {
     "data": {
      "text/plain": [
       "['/Users/allayahsimmons/Desktop',\n",
       " '/Users/allayahsimmons/opt/anaconda3/lib/python38.zip',\n",
       " '/Users/allayahsimmons/opt/anaconda3/lib/python3.8',\n",
       " '/Users/allayahsimmons/opt/anaconda3/lib/python3.8/lib-dynload',\n",
       " '',\n",
       " '/Users/allayahsimmons/opt/anaconda3/lib/python3.8/site-packages',\n",
       " '/Users/allayahsimmons/opt/anaconda3/lib/python3.8/site-packages/aeosa',\n",
       " '/Users/allayahsimmons/opt/anaconda3/lib/python3.8/site-packages/IPython/extensions',\n",
       " '/Users/allayahsimmons/.ipython',\n",
       " '/Users/allayahsimmons/Desktop']"
      ]
     },
     "execution_count": 8,
     "metadata": {},
     "output_type": "execute_result"
    }
   ],
   "source": [
    "# Q1. Please print out your search path\n",
    "import sys\n",
    "sys.path\n"
   ]
  },
  {
   "cell_type": "code",
   "execution_count": 11,
   "metadata": {},
   "outputs": [],
   "source": [
    "# Q2. Plesae append your desktop folder to the search path\n",
    "import sys\n",
    "sys.path.append(r'/Users/allayahsimmons/Desktop/search')\n",
    "sys.path.append(r'/Users/allayahsimmons/Desktop/')"
   ]
  },
  {
   "cell_type": "code",
   "execution_count": null,
   "metadata": {},
   "outputs": [],
   "source": [
    "'''\n",
    "Q3 ~ Q5. In Python, you can import math module.\n",
    "\n",
    "'''\n",
    "\n",
    "# hint: you can use dir(), __name__, and __file"
   ]
  },
  {
   "cell_type": "code",
   "execution_count": 12,
   "metadata": {},
   "outputs": [
    {
     "data": {
      "text/plain": [
       "['__doc__',\n",
       " '__file__',\n",
       " '__loader__',\n",
       " '__name__',\n",
       " '__package__',\n",
       " '__spec__',\n",
       " 'acos',\n",
       " 'acosh',\n",
       " 'asin',\n",
       " 'asinh',\n",
       " 'atan',\n",
       " 'atan2',\n",
       " 'atanh',\n",
       " 'ceil',\n",
       " 'comb',\n",
       " 'copysign',\n",
       " 'cos',\n",
       " 'cosh',\n",
       " 'degrees',\n",
       " 'dist',\n",
       " 'e',\n",
       " 'erf',\n",
       " 'erfc',\n",
       " 'exp',\n",
       " 'expm1',\n",
       " 'fabs',\n",
       " 'factorial',\n",
       " 'floor',\n",
       " 'fmod',\n",
       " 'frexp',\n",
       " 'fsum',\n",
       " 'gamma',\n",
       " 'gcd',\n",
       " 'hypot',\n",
       " 'inf',\n",
       " 'isclose',\n",
       " 'isfinite',\n",
       " 'isinf',\n",
       " 'isnan',\n",
       " 'isqrt',\n",
       " 'ldexp',\n",
       " 'lgamma',\n",
       " 'log',\n",
       " 'log10',\n",
       " 'log1p',\n",
       " 'log2',\n",
       " 'modf',\n",
       " 'nan',\n",
       " 'perm',\n",
       " 'pi',\n",
       " 'pow',\n",
       " 'prod',\n",
       " 'radians',\n",
       " 'remainder',\n",
       " 'sin',\n",
       " 'sinh',\n",
       " 'sqrt',\n",
       " 'tan',\n",
       " 'tanh',\n",
       " 'tau',\n",
       " 'trunc']"
      ]
     },
     "execution_count": 12,
     "metadata": {},
     "output_type": "execute_result"
    }
   ],
   "source": [
    "# Q3. Please show its attributes, after importing math module\n",
    "import math\n",
    "dir(math)"
   ]
  },
  {
   "cell_type": "code",
   "execution_count": 13,
   "metadata": {},
   "outputs": [
    {
     "data": {
      "text/plain": [
       "'__main__'"
      ]
     },
     "execution_count": 13,
     "metadata": {},
     "output_type": "execute_result"
    }
   ],
   "source": [
    "# Q4. Plesae show the name of math module\n",
    "math.__name__"
   ]
  },
  {
   "cell_type": "code",
   "execution_count": 16,
   "metadata": {},
   "outputs": [
    {
     "name": "stdout",
     "output_type": "stream",
     "text": [
      "/Users/allayahsimmons/opt/anaconda3/lib/python3.8/lib-dynload/math.cpython-38-darwin.so\n"
     ]
    }
   ],
   "source": [
    "# Q5. Plesae show the absolute pathname of the file containing math module\n",
    "import math\n",
    "print(math.__file__)"
   ]
  },
  {
   "cell_type": "markdown",
   "metadata": {},
   "source": [
    "# (2) Importing Module Attributes"
   ]
  },
  {
   "cell_type": "code",
   "execution_count": null,
   "metadata": {},
   "outputs": [],
   "source": [
    "'''\n",
    "Q6. Please import randrange function from random module\n",
    "    You shouldn't import other attributes of random module\n",
    "\n",
    "'''"
   ]
  },
  {
   "cell_type": "code",
   "execution_count": 5,
   "metadata": {},
   "outputs": [],
   "source": [
    "import random\n"
   ]
  },
  {
   "cell_type": "code",
   "execution_count": 6,
   "metadata": {},
   "outputs": [
    {
     "data": {
      "text/plain": [
       "'\\nQ7. Using the imported randrange function of Q6, \\n    please write a code that return a random number between 0-9.\\n\\n'"
      ]
     },
     "execution_count": 6,
     "metadata": {},
     "output_type": "execute_result"
    }
   ],
   "source": [
    "'''\n",
    "Q7. Using the imported randrange function of Q6, \n",
    "    please write a code that return a random number between 0-9.\n",
    "\n",
    "'''"
   ]
  },
  {
   "cell_type": "code",
   "execution_count": 11,
   "metadata": {},
   "outputs": [
    {
     "name": "stdout",
     "output_type": "stream",
     "text": [
      "Random Number between 0 and 9:3\n"
     ]
    }
   ],
   "source": [
    "import random\n",
    "print('Random Number between 0 and 9:',end=\"\")\n",
    "print(random.randrange(9))"
   ]
  },
  {
   "cell_type": "markdown",
   "metadata": {},
   "source": [
    "# (3) Method Invocations"
   ]
  },
  {
   "cell_type": "code",
   "execution_count": null,
   "metadata": {},
   "outputs": [],
   "source": [
    "'''\n",
    "Q8 ~ Q10. Please rewrite the below Python code so that instead of making the usual method invocations \n",
    "\n",
    "'''"
   ]
  },
  {
   "cell_type": "code",
   "execution_count": null,
   "metadata": {},
   "outputs": [],
   "source": [
    "s = 'mgt4540 systems implementation'\n",
    "lst = ['apple', 'pear', 'strawberry']\n",
    "dic = {'A':1, 'B':2, 'C':3, 'D':4}"
   ]
  },
  {
   "cell_type": "code",
   "execution_count": 2,
   "metadata": {},
   "outputs": [
    {
     "name": "stdout",
     "output_type": "stream",
     "text": [
      "['mgt4540', 'systems', 'implementation']\n"
     ]
    }
   ],
   "source": [
    "# Q8. s.split()\n",
    "s = 'mgt4540 systems implementation'\n",
    "new=s.split()\n",
    "print (new)\n"
   ]
  },
  {
   "cell_type": "code",
   "execution_count": 1,
   "metadata": {},
   "outputs": [
    {
     "name": "stdout",
     "output_type": "stream",
     "text": [
      "['apple', 'pear', 'strawberry', 'blueberry']\n"
     ]
    }
   ],
   "source": [
    "# Q9. lst.append('blueberry')\n",
    "lst = ['apple', 'pear', 'strawberry']\n",
    "lstB=['blueberry']\n",
    "lst=lst+lstB\n",
    "print(lst)\n",
    "\n"
   ]
  },
  {
   "cell_type": "code",
   "execution_count": 4,
   "metadata": {},
   "outputs": [
    {
     "name": "stdout",
     "output_type": "stream",
     "text": [
      "dict_keys(['A', 'B', 'C', 'D'])\n"
     ]
    }
   ],
   "source": [
    "# Q10. dic.keys()\n",
    "dic = {'A':1, 'B':2, 'C':3, 'D':4}\n",
    "print (dic.keys())\n"
   ]
  },
  {
   "cell_type": "code",
   "execution_count": null,
   "metadata": {},
   "outputs": [],
   "source": []
  }
 ],
 "metadata": {
  "anaconda-cloud": {},
  "kernelspec": {
   "display_name": "Python 3",
   "language": "python",
   "name": "python3"
  },
  "language_info": {
   "codemirror_mode": {
    "name": "ipython",
    "version": 3
   },
   "file_extension": ".py",
   "mimetype": "text/x-python",
   "name": "python",
   "nbconvert_exporter": "python",
   "pygments_lexer": "ipython3",
   "version": "3.8.3"
  }
 },
 "nbformat": 4,
 "nbformat_minor": 1
}
