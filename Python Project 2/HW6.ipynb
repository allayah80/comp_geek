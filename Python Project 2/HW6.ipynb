{
 "cells": [
  {
   "cell_type": "markdown",
   "metadata": {},
   "source": [
    "# (1) Dictionary"
   ]
  },
  {
   "cell_type": "code",
   "execution_count": null,
   "metadata": {},
   "outputs": [],
   "source": [
    "'''\n",
    "Q1. Please write a program that \n",
    "    - creates a dictionary, dic_1, mapping following keys to values\n",
    "    \n",
    "    key-value pairs:\n",
    "    1) apple and fruit\n",
    "    2) strawberry and fruit\n",
    "    3) brocolli and vegetable\n",
    "    4) carrot and vegetable\n",
    "    5) tomato and fruit\n",
    "\n",
    ">>> dic_1\n",
    "{'apple':'fruit', \n",
    " 'strwberry':'fruit', \n",
    " 'brocolli':'vegetable', \n",
    " 'carrot':'vegetable', \n",
    " 'tomato':'fruit'}\n",
    "\n",
    "'''"
   ]
  },
  {
   "cell_type": "code",
   "execution_count": null,
   "metadata": {},
   "outputs": [],
   "source": [
    "dic_1={}\n",
    "dic_1['apple']='fruit'\n",
    "dic_1['strawberry']='fruit'\n",
    "dic_1['brocolli']='vegetable'\n",
    "dic_1['carrot']='vegetable'\n",
    "dic_1['tomato']='fruit'"
   ]
  },
  {
   "cell_type": "code",
   "execution_count": null,
   "metadata": {},
   "outputs": [],
   "source": [
    "print (dic_1)"
   ]
  },
  {
   "cell_type": "code",
   "execution_count": null,
   "metadata": {},
   "outputs": [],
   "source": [
    "'''\n",
    "Q2. Please write a program that \n",
    "    - changes your dic_1 by followings\n",
    "    \n",
    "    from tomato and fruit\n",
    "    to tomato and vegetable\n",
    "\n",
    ">>> dic_1\n",
    "{'apple':'fruit', \n",
    " 'strwberry':'fruit', \n",
    " 'brocolli':'vegetable', \n",
    " 'carrot':'vegetable', \n",
    " 'tomato':'vegetable'}\n",
    "\n",
    "'''\n"
   ]
  },
  {
   "cell_type": "code",
   "execution_count": null,
   "metadata": {},
   "outputs": [],
   "source": [
    "dic_1={}\n",
    "dic_1['apple']='fruit'\n",
    "dic_1['strawberry']='fruit'\n",
    "dic_1['brocolli']='vegetable'\n",
    "dic_1['carrot']='vegetable'\n",
    "dic_1['tomato']='vegetable'"
   ]
  },
  {
   "cell_type": "code",
   "execution_count": null,
   "metadata": {},
   "outputs": [],
   "source": [
    "print(dic_1)"
   ]
  },
  {
   "cell_type": "code",
   "execution_count": null,
   "metadata": {},
   "outputs": [],
   "source": [
    "'''\n",
    "Q3. Please write a program that \n",
    "    - counts a number of occurences of each value in the dic_1\n",
    "    - prints following messages\n",
    "    \n",
    ">>> \n",
    "fruit appears 2 times.\n",
    "vegetable appears 3 times.\n",
    "\n",
    "'''\n",
    "\n",
    "# Hint: you can use dictionary method (i.e. values())\n",
    "# Note: you can use general output formatting."
   ]
  },
  {
   "cell_type": "code",
   "execution_count": 30,
   "metadata": {},
   "outputs": [],
   "source": [
    "dic_1={}\n",
    "dic_1['apple']='fruit'\n",
    "dic_1['strawberry']='fruit'\n",
    "dic_1['brocolli']='vegetable'\n",
    "dic_1['carrot']='vegetable'\n",
    "dic_1['tomato']='vegetable'"
   ]
  },
  {
   "cell_type": "code",
   "execution_count": 47,
   "metadata": {},
   "outputs": [
    {
     "name": "stdout",
     "output_type": "stream",
     "text": [
      "Fruit appears  2 times\n",
      "Vegetable appears  3times\n"
     ]
    }
   ],
   "source": [
    "print(\"Fruit appears \", list(dic_1.values()).count(\"fruit\"),end=' times.')\n",
    "print('')\n",
    "print(\"Vegetable appears \", list(dic_1.values()).count(\"vegetable\"),end='times.')\n",
    "print('')"
   ]
  },
  {
   "cell_type": "code",
   "execution_count": 48,
   "metadata": {},
   "outputs": [
    {
     "data": {
      "text/plain": [
       "'\\nQ4. Write a function lookup_dic() that \\n    implements an employee information management application.\\n\\n    Your function takes, as input, a dictionary representing a employee table,\\n    mapping strings (containing an employee number) as a key\\n    to tuples (containing first name and last name) as a value \\n\\n    It repeats 1) requesting an user to input employee number, and \\n               2) printing out one\\'s first and last name.\\n\\n    If an user inputs wrong number, it prints out \"Wrong number!\"\\n    If an user inputs nothing, stop the iteration and print out \"Goodbye.\"\\n\\n>>> employee = {\\'901234\\':(\\'Anna\\', \\'Karenina\\'), \\n                \\'321908\\':(\\'Yu\\', \\'Tsun\\'), \\n                \\'123456\\':(\\'Hans\\', \\'Castorp\\')}\\n\\n>>> lookup_dic(employee)\\nEnter the employee number: 321908\\nName: Yu Tsun\\nEnter the employee number: 123456\\nName: Hans Castorp\\nEnter the employee number: 001234\\nName: Wrong number!\\nEnter the employee number: \\nGoodbye.\\n\\n'"
      ]
     },
     "execution_count": 48,
     "metadata": {},
     "output_type": "execute_result"
    }
   ],
   "source": [
    "'''\n",
    "Q4. Write a function lookup_dic() that \n",
    "    implements an employee information management application.\n",
    "\n",
    "    Your function takes, as input, a dictionary representing a employee table,\n",
    "    mapping strings (containing an employee number) as a key\n",
    "    to tuples (containing first name and last name) as a value \n",
    "\n",
    "    It repeats 1) requesting an user to input employee number, and \n",
    "               2) printing out one's first and last name.\n",
    "\n",
    "    If an user inputs wrong number, it prints out \"Wrong number!\"\n",
    "    If an user inputs nothing, stop the iteration and print out \"Goodbye.\"\n",
    "\n",
    ">>> employee = {'901234':('Anna', 'Karenina'), \n",
    "                '321908':('Yu', 'Tsun'), \n",
    "                '123456':('Hans', 'Castorp')}\n",
    "\n",
    ">>> lookup_dic(employee)\n",
    "Enter the employee number: 321908\n",
    "Name: Yu Tsun\n",
    "Enter the employee number: 123456\n",
    "Name: Hans Castorp\n",
    "Enter the employee number: 001234\n",
    "Name: Wrong number!\n",
    "Enter the employee number: \n",
    "Goodbye.\n",
    "\n",
    "'''\n"
   ]
  },
  {
   "cell_type": "code",
   "execution_count": 69,
   "metadata": {},
   "outputs": [],
   "source": [
    "def lookup_dic(employee):\n",
    "    while True:\n",
    "        number=input(\"Enter employee number: \")\n",
    "        if number not in employee:\n",
    "            print(\"Wrong number!\")\n",
    "            break\n",
    "        elif number == '':\n",
    "            break\n",
    "        else:\n",
    "            key=(number)\n",
    "            name=employee[key]\n",
    "            print('Name:',name)"
   ]
  },
  {
   "cell_type": "code",
   "execution_count": 70,
   "metadata": {},
   "outputs": [],
   "source": [
    "employee = {'901234':('Anna', 'Karenina'), \n",
    "                '321908':('Yu', 'Tsun'), \n",
    "                '123456':('Hans', 'Castorp')}"
   ]
  },
  {
   "cell_type": "code",
   "execution_count": 71,
   "metadata": {
    "scrolled": false
   },
   "outputs": [
    {
     "name": "stdout",
     "output_type": "stream",
     "text": [
      "Enter employee number: 321908\n",
      "Name: ('Yu', 'Tsun')\n",
      "Enter employee number: \n",
      "Wrong number!\n"
     ]
    }
   ],
   "source": [
    "lookup_dic(employee)"
   ]
  },
  {
   "cell_type": "code",
   "execution_count": 15,
   "metadata": {},
   "outputs": [
    {
     "data": {
      "text/plain": [
       "\"\\nQ5. Write a function create_dic() that \\n    implements an employee information management application. \\n\\n    Your function takes, as input, a dictionary name (i.e. string) representing a employee table,\\n    mapping strings (containing an employee number) as a key\\n    to tuples (containing first name and last name) as a value \\n\\n    It 1) repeats requesting an user to input employee number, firt name, and last name\\n       2) returns the employee table (i.e. dictionary) and stops the iteration, as an user inputs nothing.\\n\\n>>> employee('accounting')\\nEnter the employee number: 901234\\nEnter the first name: Anna\\nEnter the last name: Karenina\\nEnter the employee number: 321908\\nEnter the first name: Yu\\nEnter the last name: Tsun\\nEnter the employee number: 123456\\nEnter the first name: Hans\\nEnter the last name: Castorp\\nEnter the employee number: \\n{'901234':('Anna', 'Karenina'), '321908':('Yu', 'Tsun'), '123456':('Hans', 'Castorp')}\\n\\n\""
      ]
     },
     "execution_count": 15,
     "metadata": {},
     "output_type": "execute_result"
    }
   ],
   "source": [
    "'''\n",
    "Q5. Write a function create_dic() that \n",
    "    implements an employee information management application. \n",
    "\n",
    "    Your function takes, as input, a dictionary name (i.e. string) representing a employee table,\n",
    "    mapping strings (containing an employee number) as a key\n",
    "    to tuples (containing first name and last name) as a value \n",
    "\n",
    "    It 1) repeats requesting an user to input employee number, firt name, and last name\n",
    "       2) returns the employee table (i.e. dictionary) and stops the iteration, as an user inputs nothing.\n",
    "\n",
    ">>> employee('accounting')\n",
    "Enter the employee number: 901234\n",
    "Enter the first name: Anna\n",
    "Enter the last name: Karenina\n",
    "Enter the employee number: 321908\n",
    "Enter the first name: Yu\n",
    "Enter the last name: Tsun\n",
    "Enter the employee number: 123456\n",
    "Enter the first name: Hans\n",
    "Enter the last name: Castorp\n",
    "Enter the employee number: \n",
    "{'901234':('Anna', 'Karenina'), '321908':('Yu', 'Tsun'), '123456':('Hans', 'Castorp')}\n",
    "\n",
    "'''\n",
    "\n",
    "# Note: if an user input nothing to the fist or last names after typing its employee number, \n",
    "#       the employee number will not be added into the dictionary"
   ]
  },
  {
   "cell_type": "code",
   "execution_count": 81,
   "metadata": {},
   "outputs": [],
   "source": [
    "def create_dic(accounting):\n",
    "    while True:\n",
    "        number=input(\"Enter employee number: \")\n",
    "        if number=='':\n",
    "            break\n",
    "        firstName=input(\"Enter First Name: \")\n",
    "        if firstName=='':\n",
    "            break\n",
    "        lastName=input(\"Enter Last Name: \")\n",
    "        if lastName=='':\n",
    "            break\n",
    "        key=(number,firstName,lastName)\n",
    "        infor=dfic[key]\n",
    "        print(infor)\n",
    "            \n"
   ]
  },
  {
   "cell_type": "code",
   "execution_count": 83,
   "metadata": {},
   "outputs": [
    {
     "ename": "TypeError",
     "evalue": "'dict' object is not callable",
     "output_type": "error",
     "traceback": [
      "\u001b[0;31m----------------------------------------------------------------------\u001b[0m",
      "\u001b[0;31mTypeError\u001b[0m                            Traceback (most recent call last)",
      "\u001b[0;32m<ipython-input-83-0ef971f5ec59>\u001b[0m in \u001b[0;36m<module>\u001b[0;34m\u001b[0m\n\u001b[0;32m----> 1\u001b[0;31m \u001b[0memployee\u001b[0m\u001b[0;34m(\u001b[0m\u001b[0;34m'accounting'\u001b[0m\u001b[0;34m)\u001b[0m\u001b[0;34m\u001b[0m\u001b[0;34m\u001b[0m\u001b[0m\n\u001b[0m",
      "\u001b[0;31mTypeError\u001b[0m: 'dict' object is not callable"
     ]
    }
   ],
   "source": [
    "employee('accounting')"
   ]
  },
  {
   "cell_type": "markdown",
   "metadata": {},
   "source": [
    "# (2) random module"
   ]
  },
  {
   "cell_type": "code",
   "execution_count": null,
   "metadata": {},
   "outputs": [],
   "source": [
    "'''\n",
    "Q6. Write a function rand_n() that takes a bound as an input\n",
    "    and returns a random number lower than the bound\n",
    "\n",
    ">>> rand_n(10)\n",
    "3\n",
    ">>> rand_n(100)\n",
    "13\n",
    "\n",
    "'''"
   ]
  },
  {
   "cell_type": "code",
   "execution_count": 17,
   "metadata": {},
   "outputs": [],
   "source": [
    "import random\n",
    "def rand_n(num):\n",
    "    output=random.randint(0,num-1)\n",
    "    return output\n",
    "        \n",
    "    "
   ]
  },
  {
   "cell_type": "code",
   "execution_count": 18,
   "metadata": {},
   "outputs": [
    {
     "data": {
      "text/plain": [
       "5"
      ]
     },
     "execution_count": 18,
     "metadata": {},
     "output_type": "execute_result"
    }
   ],
   "source": [
    "rand_n(10)"
   ]
  },
  {
   "cell_type": "code",
   "execution_count": 19,
   "metadata": {},
   "outputs": [
    {
     "data": {
      "text/plain": [
       "50"
      ]
     },
     "execution_count": 19,
     "metadata": {},
     "output_type": "execute_result"
    }
   ],
   "source": [
    "rand_n(100)"
   ]
  },
  {
   "cell_type": "code",
   "execution_count": 36,
   "metadata": {},
   "outputs": [
    {
     "data": {
      "text/plain": [
       "\"\\nQ7. Write a function random_choice() that takes \\n    a list as an input and\\n    randomly select an item in the list and returns it\\n\\n>>> random_choice(['apple', 'pear', 'strawberry', 'rasberry'])\\n'apple'\\n>>> random_choice(['apple', 'pear', 'strawberry', 'rasberry'])\\n'rasberry'\\n>>> random_choice(['apple', 'pear', 'strawberry', 'rasberry'])\\n'pear'\\n\\n\""
      ]
     },
     "execution_count": 36,
     "metadata": {},
     "output_type": "execute_result"
    }
   ],
   "source": [
    "'''\n",
    "Q7. Write a function random_choice() that takes \n",
    "    a list as an input and\n",
    "    randomly select an item in the list and returns it\n",
    "\n",
    ">>> random_choice(['apple', 'pear', 'strawberry', 'rasberry'])\n",
    "'apple'\n",
    ">>> random_choice(['apple', 'pear', 'strawberry', 'rasberry'])\n",
    "'rasberry'\n",
    ">>> random_choice(['apple', 'pear', 'strawberry', 'rasberry'])\n",
    "'pear'\n",
    "\n",
    "'''"
   ]
  },
  {
   "cell_type": "code",
   "execution_count": 37,
   "metadata": {},
   "outputs": [],
   "source": [
    "def random_choice(listofoptions):\n",
    "    import random\n",
    "    listofoptions=['apple', 'pear', 'strawberry', 'rasberry']\n",
    "    items=random.choice(listofoptions)\n",
    "    print(items)"
   ]
  },
  {
   "cell_type": "code",
   "execution_count": 38,
   "metadata": {},
   "outputs": [
    {
     "name": "stdout",
     "output_type": "stream",
     "text": [
      "pear\n"
     ]
    }
   ],
   "source": [
    "random_choice(['apple', 'pear', 'strawberry', 'rasberry'])"
   ]
  },
  {
   "cell_type": "code",
   "execution_count": 39,
   "metadata": {},
   "outputs": [
    {
     "name": "stdout",
     "output_type": "stream",
     "text": [
      "rasberry\n"
     ]
    }
   ],
   "source": [
    "random_choice(['apple', 'pear', 'strawberry', 'rasberry'])"
   ]
  },
  {
   "cell_type": "code",
   "execution_count": null,
   "metadata": {},
   "outputs": [],
   "source": [
    "random_choice(['apple', 'pear', 'strawberry', 'rasberry'])"
   ]
  },
  {
   "cell_type": "code",
   "execution_count": null,
   "metadata": {},
   "outputs": [],
   "source": [
    "'''\n",
    "Q8. Write a function dice() that returns an integer from 1 to 6 with equal probability.\n",
    "\n",
    ">>> dice()\n",
    "3\n",
    ">>> dice()\n",
    "1\n",
    ">>> dice()\n",
    "5\n",
    "\n",
    "'''"
   ]
  },
  {
   "cell_type": "code",
   "execution_count": 32,
   "metadata": {},
   "outputs": [],
   "source": [
    "import random\n",
    "def dice():\n",
    "    num=random.randint(1,6)\n",
    "    print(num)\n",
    "    \n",
    "    "
   ]
  },
  {
   "cell_type": "code",
   "execution_count": 33,
   "metadata": {},
   "outputs": [
    {
     "name": "stdout",
     "output_type": "stream",
     "text": [
      "6\n"
     ]
    }
   ],
   "source": [
    "dice()"
   ]
  },
  {
   "cell_type": "code",
   "execution_count": 34,
   "metadata": {},
   "outputs": [
    {
     "name": "stdout",
     "output_type": "stream",
     "text": [
      "5\n"
     ]
    }
   ],
   "source": [
    "dice()"
   ]
  },
  {
   "cell_type": "code",
   "execution_count": 35,
   "metadata": {},
   "outputs": [
    {
     "name": "stdout",
     "output_type": "stream",
     "text": [
      "2\n"
     ]
    }
   ],
   "source": [
    "dice()"
   ]
  },
  {
   "cell_type": "code",
   "execution_count": null,
   "metadata": {},
   "outputs": [],
   "source": [
    "'''\n",
    "Q9. Write function dice_game() that:\n",
    "    has two players (i.e. A and B) who roll a dice ranging from 1 to 6\n",
    "    It prints out following messages that show\n",
    "        1) each player's dice value\n",
    "        2) the winner\n",
    "        3) if the dice values are same, prints out Draw!\n",
    "        \n",
    ">>> dice_game()\n",
    "A:3, B:4\n",
    "B is the winner!\n",
    "\n",
    ">>> dice_game()\n",
    "A:5, B:2\n",
    "A is the winner!\n",
    "\n",
    ">>> dice_game()\n",
    "A:4, B:4\n",
    "Draw!\n",
    "\n",
    "'''\n"
   ]
  },
  {
   "cell_type": "code",
   "execution_count": 28,
   "metadata": {},
   "outputs": [],
   "source": [
    "import random\n",
    "def dice_game():\n",
    "    winForA=0\n",
    "    winForB=0\n",
    "    aRoll=random.randint(1,6)\n",
    "    bRoll=random.randint(1,6)\n",
    "    print(\"A:\",end='')\n",
    "    print(aRoll,end='')\n",
    "    print(\",\",end='')\n",
    "    print(\"B:\",end='')\n",
    "    print(bRoll)\n",
    "    if aRoll>bRoll:\n",
    "        print(\"A is the winner!\")\n",
    "        winForA+=1\n",
    "    elif bRoll>aRoll:\n",
    "        print(\"B is the winner!\")\n",
    "        winForB+=1\n",
    "    else:\n",
    "        print(\"Draw!\")"
   ]
  },
  {
   "cell_type": "code",
   "execution_count": 29,
   "metadata": {},
   "outputs": [
    {
     "name": "stdout",
     "output_type": "stream",
     "text": [
      "A:5,B:5\n",
      "Draw!\n"
     ]
    }
   ],
   "source": [
    "dice_game()"
   ]
  },
  {
   "cell_type": "code",
   "execution_count": 30,
   "metadata": {},
   "outputs": [
    {
     "name": "stdout",
     "output_type": "stream",
     "text": [
      "A:1,B:1\n",
      "Draw!\n"
     ]
    }
   ],
   "source": [
    "dice_game()"
   ]
  },
  {
   "cell_type": "code",
   "execution_count": null,
   "metadata": {},
   "outputs": [],
   "source": [
    "dice_game()"
   ]
  },
  {
   "cell_type": "code",
   "execution_count": null,
   "metadata": {},
   "outputs": [],
   "source": [
    "'''\n",
    "Q10. Write function dice_game_summary() that:\n",
    "    takes a number of games (i.e. rounds) as an input,\n",
    "    has two players (i.e. A and B) who roll a dice ranging from 1 to 6\n",
    "    It repeatdly prints out the result of each round that show \n",
    "        1) each player's dice value\n",
    "        2) the winner\n",
    "        3) if the dice values are same, prints out Draw!\n",
    "    After running all rounds, it prints out the summary by folloiwng.\n",
    "        1) a number of winning games of A\n",
    "        2) a number of winning games of B\n",
    "        3) the final champion\n",
    "        4) if the number of winning games are same, prints out \"Unbelievable!\"\n",
    "        \n",
    ">>> dice_game_summary(3)\n",
    "A:3, B:4\n",
    "B is the winner!\n",
    "A:5, B:2\n",
    "A is the winner!\n",
    "A:4, B:4\n",
    "Draw!\n",
    "Winning games of A: 1\n",
    "Winning games of B: 1\n",
    "Unbelievable!\n",
    "\n",
    ">>> dice_game_summary(4)\n",
    "A:2, B:6\n",
    "B is the winner!\n",
    "A:3, B:4\n",
    "B is the winner!\n",
    "A:5, B:2\n",
    "A is the winner!\n",
    "A:4, B:4\n",
    "Draw!\n",
    "Winning games of A: 2\n",
    "Winning games of B: 1\n",
    "Final Champion is A!\n",
    "\n",
    "'''\n"
   ]
  },
  {
   "cell_type": "code",
   "execution_count": 84,
   "metadata": {},
   "outputs": [],
   "source": [
    "import random\n",
    "def dice_game_summary(num):\n",
    "    winForA=0\n",
    "    winForB=0\n",
    "    for i in range(num):\n",
    "        aRoll=random.randint(1,6)\n",
    "        bRoll=random.randint(1,6)\n",
    "        print(\"A:\",end='')\n",
    "        print(aRoll,end='')\n",
    "        print(\",\",end='')\n",
    "        print(\"B:\",end='')\n",
    "        print(bRoll)\n",
    "        if aRoll>bRoll:\n",
    "            print(\"A is the winner!\")\n",
    "            winForA+=1\n",
    "        elif bRoll>aRoll:\n",
    "                print(\"B is the winner!\")\n",
    "                winForB+=1\n",
    "        else:\n",
    "                print(\"Draw!\")\n",
    "    print(\"Winning games of A:\",winForA)\n",
    "    print(\"Winning games of B:\",winForB)\n",
    "    if winForA>winForB:\n",
    "        print(\"Final Champion is A!\")\n",
    "    elif winForB>winForA:\n",
    "        print(\"Final Champion is B!\")\n",
    "    else:\n",
    "        print(\"Unbelievable!\")"
   ]
  },
  {
   "cell_type": "code",
   "execution_count": null,
   "metadata": {},
   "outputs": [],
   "source": []
  },
  {
   "cell_type": "code",
   "execution_count": 85,
   "metadata": {},
   "outputs": [
    {
     "name": "stdout",
     "output_type": "stream",
     "text": [
      "A:4,B:3\n",
      "A is the winner!\n",
      "A:5,B:2\n",
      "A is the winner!\n",
      "A:5,B:3\n",
      "A is the winner!\n",
      "A:4,B:3\n",
      "A is the winner!\n",
      "Winning games of A: 4\n",
      "Winning games of B: 0\n",
      "Final Champion is A!\n"
     ]
    }
   ],
   "source": [
    "dice_game_summary(4)"
   ]
  },
  {
   "cell_type": "code",
   "execution_count": null,
   "metadata": {},
   "outputs": [],
   "source": []
  },
  {
   "cell_type": "code",
   "execution_count": null,
   "metadata": {},
   "outputs": [],
   "source": []
  }
 ],
 "metadata": {
  "anaconda-cloud": {},
  "kernelspec": {
   "display_name": "Python 3",
   "language": "python",
   "name": "python3"
  },
  "language_info": {
   "codemirror_mode": {
    "name": "ipython",
    "version": 3
   },
   "file_extension": ".py",
   "mimetype": "text/x-python",
   "name": "python",
   "nbconvert_exporter": "python",
   "pygments_lexer": "ipython3",
   "version": "3.8.3"
  }
 },
 "nbformat": 4,
 "nbformat_minor": 1
}
